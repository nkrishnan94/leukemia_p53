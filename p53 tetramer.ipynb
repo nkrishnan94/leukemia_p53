{
 "cells": [
  {
   "cell_type": "code",
   "execution_count": 656,
   "metadata": {},
   "outputs": [],
   "source": [
    "import numpy as np\n",
    "import matplotlib.pyplot as plt\n",
    "import seaborn as sns"
   ]
  },
  {
   "cell_type": "code",
   "execution_count": 718,
   "metadata": {},
   "outputs": [],
   "source": [
    "def tet_sim_lethal_inf(N,time):\n",
    "    fits = np.zeros(time)\n",
    "    fits[0] =1\n",
    "    \n",
    "\n",
    "    counts = np.array([int(.5*N),int(.5*N)])\n",
    "    dt= 1\n",
    "    picks = np.array([0,0])\n",
    "    while dt<time and picks[1]==0 :\n",
    "        picks = np.bincount(np.random.randint(0,2,4),minlength=2)\n",
    "        counts -=picks\n",
    "        \n",
    "        fits[dt] = (picks[1]==0)*1\n",
    "        \n",
    "        \n",
    "        dt+= 1\n",
    "    return fits\n",
    "\n",
    "\n",
    "\n",
    "def tet_sim_const_inf_m(N,time,fit_loss ):\n",
    "    fits =np.zeros(time)\n",
    "    tets = np.zeros(time)\n",
    "    fits[0]=1\n",
    "    tets[0] =0\n",
    "    counts = np.array([int(.5*N),int(.5*N)])\n",
    "    dt= 1\n",
    "    picks = np.array([0,0])\n",
    "    thresh = .01\n",
    "    fit = 0\n",
    "    while dt<time :\n",
    "        picks = np.bincount(np.random.randint(0,2,4),minlength=2)\n",
    "        #counts -=picks\n",
    "        #tets[dt] = picks[1]\n",
    "        fit += (1- (picks[1]!=0)*fit_loss)\n",
    "        #print(fit)\n",
    "        \n",
    "        fits[dt] =fit/dt\n",
    "        \n",
    "        \n",
    "        dt+= 1\n",
    "    return fits\n",
    "    \n",
    "    \n",
    "def tet_sim_lin_inf_m(N,time,fit_loss ):\n",
    "    fits =np.zeros(time)\n",
    "    tets = np.zeros(time)\n",
    "    fits[0]=1\n",
    "    tets[0] =0\n",
    "    counts = np.array([int(.5*N),int(.5*N)])\n",
    "    dt= 1\n",
    "    picks = np.array([0,0])\n",
    "    thresh = .01\n",
    "    fit = 0\n",
    "    while dt<time :\n",
    "        picks = np.bincount(np.random.randint(0,2,4),minlength=2)\n",
    "        #counts -=picks\n",
    "        #tets[dt] = picks[1]\n",
    "        fit += (1- picks[1]*fit_loss/4)\n",
    "        \n",
    "        fits[dt] =fit/dt\n",
    "        \n",
    "        \n",
    "        dt+= 1\n",
    "    return fits\n",
    "\n",
    "def tet_sim_geo_inf_m(N,time,fit_loss ):\n",
    "    fits =np.zeros(time)\n",
    "    tets = np.zeros(time)\n",
    "    fits[0]=1\n",
    "    tets[0] =0\n",
    "    counts = np.array([int(.5*N),int(.5*N)])\n",
    "    dt= 1\n",
    "    picks = np.array([0,0])\n",
    "    thresh = .01\n",
    "    fit = 0\n",
    "    while dt<time :\n",
    "        picks = np.bincount(np.random.randint(0,2,4),minlength=2)\n",
    "        #counts -=picks\n",
    "        #tets[dt] = picks[1]\n",
    "        fit += (1- (fit_loss/2**4)*2**picks[1])\n",
    "        \n",
    "        fits[dt] =fit/dt\n",
    "        \n",
    "        \n",
    "        dt+= 1\n",
    "    return fits\n",
    "\n",
    "\n",
    "\n",
    "# def tet_sim_const_inf_a(N,time,fit_loss ):\n",
    "#     #fit_loss =1 - (avg_fit_loss*5-1) /5\n",
    "#     fits =np.zeros(time)\n",
    "#     fit_hist=np.zeros(time)\n",
    "#     fits[0]=1\n",
    "#     fit_hist[0] =1\n",
    "#     counts = np.array([int(.5*N),int(.5*N)])\n",
    "#     dt= 1\n",
    "#     picks = np.array([0,0])\n",
    "#     thresh = .01\n",
    "#     fit = 0\n",
    "#     while dt<time :\n",
    "#         picks = np.bincount(np.random.randint(0,2,4),minlength=2)\n",
    "#         #counts -=picks\n",
    "#         #tets[dt] = picks[1]\n",
    "#         fit += (1- (picks[1]!=0)*fit_loss)\n",
    "#         #print(fit)\n",
    "#         fit_hist[dt]= (1- (picks[1]!=0))*(fit_loss)\n",
    "#         fits[dt] =fit/dt\n",
    "        \n",
    "        \n",
    "#         dt+= 1\n",
    "#     return fits, fit_hist\n",
    "    \n",
    "    \n",
    "# def tet_sim_lin_inf_a(N,time,avg_fit_loss ):\n",
    "#     fits =np.zeros(time)\n",
    "#     fit_hist=np.zeros(time)\n",
    "#     tets = np.zeros(time)\n",
    "#     fits[0]=1\n",
    "#     tets[0] =0\n",
    "#     counts = np.array([int(.5*N),int(.5*N)])\n",
    "#     dt= 1\n",
    "#     picks = np.array([0,0])\n",
    "#     thresh = .01\n",
    "#     fit = 0\n",
    "#     while dt<time :\n",
    "#         picks = np.bincount(np.random.randint(0,2,4),minlength=2)\n",
    "#         #counts -=picks\n",
    "#         #tets[dt] = picks[1]\n",
    "#         fit += (1- picks[1]*fit_loss/4)\n",
    "#         fit_hist[dt]= (1- picks[1]*fit_loss/4)\n",
    "#         fits[dt] =fit/dt\n",
    "        \n",
    "        \n",
    "#         dt+= 1\n",
    "#     return fits\n",
    "\n",
    "# def tet_sim_geo_inf_a(N,time,avg_fit_loss ):\n",
    "#     fits =np.zeros(time)\n",
    "#     tets = np.zeros(time)\n",
    "#     fits[0]=1\n",
    "#     tets[0] =0\n",
    "#     counts = np.array([int(.5*N),int(.5*N)])\n",
    "#     dt= 1\n",
    "#     picks = np.array([0,0])\n",
    "#     thresh = .01\n",
    "#     fit = 0\n",
    "#     while dt<time :\n",
    "#         picks = np.bincount(np.random.randint(0,2,4),minlength=2)\n",
    "#         #counts -=picks\n",
    "#         #tets[dt] = picks[1]\n",
    "#         fit += (1- (fit_loss/2**4)*2**picks[1])\n",
    "        \n",
    "#         fits[dt] =fit/dt\n",
    "        \n",
    "        \n",
    "#         dt+= 1\n",
    "#     return fits\n",
    "    \n",
    "    \n",
    "    \n",
    "    "
   ]
  },
  {
   "cell_type": "code",
   "execution_count": 719,
   "metadata": {},
   "outputs": [],
   "source": [
    "time= 100\n",
    "samp =5000\n",
    "\n",
    "arr_const_min=np.zeros((samp,time))\n",
    "arr_lin_min=np.zeros((samp,time))\n",
    "arr_geo_min=np.zeros((samp,time))\n",
    "\n",
    "for n in range(samp):\n",
    "    arr_const_min[n] = tet_sim_const_inf_m(3,time,.5 )\n",
    "    arr_lin_min[n] = tet_sim_lin_inf_m(3,time,.5 )\n",
    "    arr_geo_min[n] = tet_sim_geo_inf_m(3,time,.5 )\n",
    "    \n",
    "    \n",
    "    "
   ]
  },
  {
   "cell_type": "code",
   "execution_count": 739,
   "metadata": {},
   "outputs": [
    {
     "data": {
      "text/plain": [
       "<matplotlib.legend.Legend at 0x1a22b02e80>"
      ]
     },
     "execution_count": 739,
     "metadata": {},
     "output_type": "execute_result"
    },
    {
     "data": {
      "image/png": "[encoded data removed]",
      "text/plain": [
       "<Figure size 432x288 with 1 Axes>"
      ]
     },
     "metadata": {
      "needs_background": "light"
     },
     "output_type": "display_data"
    }
   ],
   "source": [
    "fig,ax=plt.subplots()\n",
    "labels=['constant','linear','geometric']\n",
    "for i,arr in enumerate([arr_lin_min,arr_const_min,arr_geo_min]):\n",
    "    ax.plot(np.mean(arr,axis=0)[1:]/np.mean(arr,axis=0)[-1],lw=6,alpha=.2,label=labels[i])\n",
    "    ax.fill_between(range(99),np.mean(arr,axis=0)[1:]/np.mean(arr,axis=0)[-1]-np.std(arr,axis=0)[1:],\n",
    "                     np.std(arr,axis=0)[1:]+np.mean(arr,axis=0)[1:]/np.mean(arr,axis=0)[-1],alpha=.2)\n",
    "for side in ax.spines.keys():  # 'top', 'bottom', 'left', 'right'\n",
    "    ax.spines[side].set_linewidth(2)\n",
    "ax.spines['right'].set_visible(False)\n",
    "ax.spines['top'].set_visible(False)\n",
    "ax.tick_params(axis='both', which='major', labelsize=14)\n",
    "\n",
    "ax.set_xlabel('Time (tet. formations)',fontsize=16)\n",
    "ax.set_ylabel('Fitness (normalized)',fontsize=16)\n",
    "ax.legend(fontsize=14)"
   ]
  },
  {
   "cell_type": "code",
   "execution_count": 728,
   "metadata": {},
   "outputs": [
    {
     "data": {
      "text/plain": [
       "<matplotlib.legend.Legend at 0x1a24f4f080>"
      ]
     },
     "execution_count": 728,
     "metadata": {},
     "output_type": "execute_result"
    },
    {
     "data": {
      "image/png": "[encoded data removed]",
      "text/plain": [
       "<Figure size 432x288 with 1 Axes>"
      ]
     },
     "metadata": {
      "needs_background": "light"
     },
     "output_type": "display_data"
    }
   ],
   "source": [
    "fig,ax=plt.subplots()\n",
    "labels=['constant','linear','geometric']\n",
    "for i,arr in enumerate([arr_const_min,arr_lin_min,arr_geo_min]):\n",
    "    ax.plot(np.mean(arr,axis=0)[1:],lw=6,alpha=.2,label=labels[i])\n",
    "    ax.fill_between(range(99),np.mean(arr,axis=0)[1:]-np.std(arr,axis=0)[1:],\n",
    "                     np.std(arr,axis=0)[1:]+np.mean(arr,axis=0)[1:],alpha=.2)\n",
    "for side in ax.spines.keys():  # 'top', 'bottom', 'left', 'right'\n",
    "    ax.spines[side].set_linewidth(2)\n",
    "ax.spines['right'].set_visible(False)\n",
    "ax.spines['top'].set_visible(False)\n",
    "ax.tick_params(axis='both', which='major', labelsize=14)\n",
    "\n",
    "ax.set_xlabel('Time (tet. formations)',fontsize=16)\n",
    "ax.set_ylabel('Fitness',fontsize=16)\n",
    "ax.legend(fontsize=14,bbox_to_anchor=[1, .5])"
   ]
  },
  {
   "cell_type": "code",
   "execution_count": 462,
   "metadata": {},
   "outputs": [],
   "source": [
    "time= 1000\n",
    "samp =1000\n",
    "\n",
    "arr_const_avg=np.zeros((samp,time))\n",
    "arr_lin_avg=np.zeros((samp,time))\n",
    "arr_geo_avg=np.zeros((samp,time))\n",
    "\n",
    "for n in range(samp):\n",
    "    arr_const_avg[n] = tet_sim_const_inf(3,time,.267 )\n",
    "    arr_lin_avg[n] = tet_sim_lin_inf(3,time,.5 )\n",
    "    arr_geo_avg[n] = tet_sim_geo_inf(3,time,.7904)\n",
    "    \n",
    "    \n",
    "    "
   ]
  },
  {
   "cell_type": "code",
   "execution_count": 463,
   "metadata": {},
   "outputs": [
    {
     "data": {
      "text/plain": [
       "[<matplotlib.lines.Line2D at 0x117cef2e8>]"
      ]
     },
     "execution_count": 463,
     "metadata": {},
     "output_type": "execute_result"
    },
    {
     "data": {
      "image/png": "[encoded data removed]",
      "text/plain": [
       "<Figure size 432x288 with 1 Axes>"
      ]
     },
     "metadata": {
      "needs_background": "light"
     },
     "output_type": "display_data"
    }
   ],
   "source": [
    "plt.plot(np.mean(arr_const_avg,axis=0)[1:])\n",
    "plt.plot(np.mean(arr_lin_avg,axis=0)[1:])\n",
    "plt.plot(np.mean(arr_geo_avg,axis=0)[1:])"
   ]
  },
  {
   "cell_type": "code",
   "execution_count": 337,
   "metadata": {},
   "outputs": [
    {
     "data": {
      "text/plain": [
       "[<matplotlib.lines.Line2D at 0x114714518>]"
      ]
     },
     "execution_count": 337,
     "metadata": {},
     "output_type": "execute_result"
    },
    {
     "data": {
      "image/png": "[encoded data removed]",
      "text/plain": [
       "<Figure size 432x288 with 1 Axes>"
      ]
     },
     "metadata": {
      "needs_background": "light"
     },
     "output_type": "display_data"
    }
   ],
   "source": [
    "plt.plot(np.mean(arr_const_avg,axis=0))\n",
    "plt.plot(np.mean(arr_lin_avg,axis=0))\n",
    "plt.plot(np.mean(arr_geo_avg,axis=0))"
   ]
  },
  {
   "cell_type": "code",
   "execution_count": 455,
   "metadata": {},
   "outputs": [],
   "source": [
    "time= 100\n",
    "samp =1000\n",
    "\n",
    "\n",
    "arr_const=np.zeros((samp,time))\n",
    "\n",
    "for n in range(samp):\n",
    "\n",
    "    arr_const[n] = tet_sim_const_inf(3,time,.267 )\n",
    "    \n",
    "    \n",
    "    "
   ]
  },
  {
   "cell_type": "code",
   "execution_count": 456,
   "metadata": {},
   "outputs": [
    {
     "data": {
      "text/plain": [
       "0.7495378181818173"
      ]
     },
     "execution_count": 456,
     "metadata": {},
     "output_type": "execute_result"
    }
   ],
   "source": [
    "np.mean(arr_const,axis=0)[-1]"
   ]
  },
  {
   "cell_type": "code",
   "execution_count": 316,
   "metadata": {},
   "outputs": [
    {
     "data": {
      "text/plain": [
       "7.5"
      ]
     },
     "execution_count": 316,
     "metadata": {},
     "output_type": "execute_result"
    }
   ],
   "source": [
    "np.mean(2**np.array([1,2,3,4]))"
   ]
  },
  {
   "cell_type": "code",
   "execution_count": 188,
   "metadata": {},
   "outputs": [
    {
     "data": {
      "text/plain": [
       "0.6666666666666666"
      ]
     },
     "execution_count": 188,
     "metadata": {},
     "output_type": "execute_result"
    }
   ],
   "source": [
    "((1 - 1*.125/1) + (1 - 3*.125)+(1-4*.125))/"
   ]
  },
  {
   "cell_type": "code",
   "execution_count": 184,
   "metadata": {},
   "outputs": [
    {
     "data": {
      "text/plain": [
       "0.5"
      ]
     },
     "execution_count": 184,
     "metadata": {},
     "output_type": "execute_result"
    }
   ],
   "source": [
    "4*.125"
   ]
  },
  {
   "cell_type": "code",
   "execution_count": 171,
   "metadata": {},
   "outputs": [
    {
     "data": {
      "text/plain": [
       "array([1., 0., 0., ..., 0., 0., 0.])"
      ]
     },
     "execution_count": 171,
     "metadata": {},
     "output_type": "execute_result"
    }
   ],
   "source": [
    "tet_sim_lethal_inf(100,5000)"
   ]
  },
  {
   "cell_type": "code",
   "execution_count": 139,
   "metadata": {},
   "outputs": [],
   "source": [
    "time = np.zeros((1000,10))\n",
    "for n in range(1000):\n",
    "    time[n] = tet_sim_lethal_inf(100,10)"
   ]
  },
  {
   "cell_type": "code",
   "execution_count": 140,
   "metadata": {},
   "outputs": [
    {
     "data": {
      "text/plain": [
       "[<matplotlib.lines.Line2D at 0x10ce30898>]"
      ]
     },
     "execution_count": 140,
     "metadata": {},
     "output_type": "execute_result"
    },
    {
     "data": {
      "image/png": "[encoded data removed]",
      "text/plain": [
       "<Figure size 432x288 with 1 Axes>"
      ]
     },
     "metadata": {
      "needs_background": "light"
     },
     "output_type": "display_data"
    }
   ],
   "source": [
    "plt.plot(np.mean(time,axis=0))"
   ]
  },
  {
   "cell_type": "code",
   "execution_count": 115,
   "metadata": {},
   "outputs": [
    {
     "data": {
      "text/plain": [
       "array([  0, 936,  62,   2])"
      ]
     },
     "execution_count": 115,
     "metadata": {},
     "output_type": "execute_result"
    }
   ],
   "source": [
    "np.bincount(time.astype(int),minlength=3)"
   ]
  },
  {
   "cell_type": "code",
   "execution_count": 34,
   "metadata": {},
   "outputs": [
    {
     "data": {
      "text/plain": [
       "array([1, 3])"
      ]
     },
     "execution_count": 34,
     "metadata": {},
     "output_type": "execute_result"
    }
   ],
   "source": [
    "np.bincount(np.random.randint(0,2,4),minlength=2)\n"
   ]
  },
  {
   "cell_type": "code",
   "execution_count": 19,
   "metadata": {},
   "outputs": [],
   "source": [
    "np.bincount"
   ]
  },
  {
   "cell_type": "code",
   "execution_count": 51,
   "metadata": {},
   "outputs": [
    {
     "data": {
      "text/plain": [
       "array([0, 4])"
      ]
     },
     "execution_count": 51,
     "metadata": {},
     "output_type": "execute_result"
    }
   ],
   "source": [
    "np.bincount(np.random.randint(0,2,4),minlength=2)"
   ]
  },
  {
   "cell_type": "code",
   "execution_count": 73,
   "metadata": {},
   "outputs": [
    {
     "data": {
      "text/plain": [
       "array([0, 1, 1, 0])"
      ]
     },
     "execution_count": 73,
     "metadata": {},
     "output_type": "execute_result"
    }
   ],
   "source": [
    "np.random.randint(0,2,4)"
   ]
  },
  {
   "cell_type": "code",
   "execution_count": 55,
   "metadata": {},
   "outputs": [
    {
     "ename": "TypeError",
     "evalue": "choice() takes at least 1 positional argument (0 given)",
     "output_type": "error",
     "traceback": [
      "\u001b[0;31m---------------------------------------------------------------------------\u001b[0m",
      "\u001b[0;31mTypeError\u001b[0m                                 Traceback (most recent call last)",
      "\u001b[0;32m<ipython-input-55-706c48e6a837>\u001b[0m in \u001b[0;36m<module>\u001b[0;34m()\u001b[0m\n\u001b[0;32m----> 1\u001b[0;31m \u001b[0mnp\u001b[0m\u001b[0;34m.\u001b[0m\u001b[0mrandom\u001b[0m\u001b[0;34m.\u001b[0m\u001b[0mchoice\u001b[0m\u001b[0;34m(\u001b[0m\u001b[0;34m)\u001b[0m\u001b[0;34m\u001b[0m\u001b[0;34m\u001b[0m\u001b[0m\n\u001b[0m",
      "\u001b[0;32mmtrand.pyx\u001b[0m in \u001b[0;36mnumpy.random.mtrand.RandomState.choice\u001b[0;34m()\u001b[0m\n",
      "\u001b[0;31mTypeError\u001b[0m: choice() takes at least 1 positional argument (0 given)"
     ]
    }
   ],
   "source": [
    "np.random.choice()"
   ]
  },
  {
   "cell_type": "code",
   "execution_count": 200,
   "metadata": {},
   "outputs": [
    {
     "data": {
      "text/plain": [
       "0.5"
      ]
     },
     "execution_count": 200,
     "metadata": {},
     "output_type": "execute_result"
    }
   ],
   "source": [
    "x"
   ]
  },
  {
   "cell_type": "code",
   "execution_count": 199,
   "metadata": {},
   "outputs": [
    {
     "data": {
      "text/plain": [
       "512"
      ]
     },
     "execution_count": 199,
     "metadata": {},
     "output_type": "execute_result"
    }
   ],
   "source": [
    "256*2"
   ]
  },
  {
   "cell_type": "code",
   "execution_count": 219,
   "metadata": {},
   "outputs": [
    {
     "data": {
      "text/plain": [
       "1.1066819197003215"
      ]
     },
     "execution_count": 219,
     "metadata": {},
     "output_type": "execute_result"
    }
   ],
   "source": [
    "1.5**(1/4)"
   ]
  },
  {
   "cell_type": "code",
   "execution_count": 212,
   "metadata": {},
   "outputs": [
    {
     "data": {
      "text/plain": [
       "0.84089"
      ]
     },
     "execution_count": 212,
     "metadata": {},
     "output_type": "execute_result"
    }
   ],
   "source": [
    ".84089**1"
   ]
  },
  {
   "cell_type": "code",
   "execution_count": 218,
   "metadata": {},
   "outputs": [
    {
     "data": {
      "text/plain": [
       "0.10660000000000003"
      ]
     },
     "execution_count": 218,
     "metadata": {},
     "output_type": "execute_result"
    }
   ],
   "source": [
    "(1.1066 -1)"
   ]
  },
  {
   "cell_type": "code",
   "execution_count": 225,
   "metadata": {},
   "outputs": [
    {
     "data": {
      "text/plain": [
       "16"
      ]
     },
     "execution_count": 225,
     "metadata": {},
     "output_type": "execute_result"
    }
   ],
   "source": [
    "2**4"
   ]
  },
  {
   "cell_type": "code",
   "execution_count": 224,
   "metadata": {},
   "outputs": [
    {
     "data": {
      "text/plain": [
       "8.0"
      ]
     },
     "execution_count": 224,
     "metadata": {},
     "output_type": "execute_result"
    }
   ],
   "source": [
    ".5/.0625"
   ]
  },
  {
   "cell_type": "code",
   "execution_count": 231,
   "metadata": {},
   "outputs": [
    {
     "data": {
      "text/plain": [
       "0.5"
      ]
     },
     "execution_count": 231,
     "metadata": {},
     "output_type": "execute_result"
    }
   ],
   "source": [
    "2**4 /32"
   ]
  },
  {
   "cell_type": "code",
   "execution_count": null,
   "metadata": {},
   "outputs": [],
   "source": []
  }
 ],
 "metadata": {
  "kernelspec": {
   "display_name": "Python 3",
   "language": "python",
   "name": "python3"
  },
  "language_info": {
   "codemirror_mode": {
    "name": "ipython",
    "version": 3
   },
   "file_extension": ".py",
   "mimetype": "text/x-python",
   "name": "python",
   "nbconvert_exporter": "python",
   "pygments_lexer": "ipython3",
   "version": "3.7.2"
  }
 },
 "nbformat": 4,
 "nbformat_minor": 2
}
