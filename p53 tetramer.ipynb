{
 "cells": [
  {
   "cell_type": "code",
   "execution_count": 1,
   "metadata": {},
   "outputs": [],
   "source": [
    "import numpy as np\n",
    "import matplotlib.pyplot as plt\n",
    "import seaborn as sns\n",
    "from scipy.stats import binom"
   ]
  },
  {
   "cell_type": "code",
   "execution_count": 2,
   "metadata": {},
   "outputs": [],
   "source": [
    "rv = binom(4, .5)\n",
    "P_m = [rv.pmf(i) for i in range(5)]"
   ]
  },
  {
   "cell_type": "code",
   "execution_count": 3,
   "metadata": {},
   "outputs": [],
   "source": [
    "def tet_sim_lethal_inf(N,time):\n",
    "    # array to store fitness\n",
    "    fits = np.zeros(time)\n",
    "    fits[0] =.6\n",
    "    #counts = np.array([int(.5*N),int(.5*N)])\n",
    "    #intial fitness\n",
    "    fit=0\n",
    "    #initialize 'time ' counter\n",
    "    dt= 1\n",
    "    picks = np.array([0,0])\n",
    "    # main loop\n",
    "    while dt<time and picks[1]==0 :\n",
    "        #draw a random set of four binary variables\n",
    "        picks = np.bincount(np.random.randint(0,2,4),minlength=2)\n",
    "        #counts -=picks\n",
    "        # calc and store fitness - under rule in which one mutant subunit is lethal\n",
    "        fits[dt] = (picks[1]==0)*1\n",
    "        \n",
    "        \n",
    "        dt+= 1\n",
    "    return fits\n",
    "\n",
    "\n",
    "\n",
    "def tet_sim_const_inf(ftime,fit_loss ):\n",
    "    \n",
    "    fits =np.zeros(time)# initialize array for fitness\n",
    "    fits[0]=.6\n",
    "    tets = np.zeros(time)\n",
    "    tets[0] =1\n",
    "   \n",
    "    fit_arr =np.ones(5)\n",
    "    fit_arr[1:] =np.repeat(fit_loss,4)\n",
    "    #counts = np.array([int(.5*N),int(.5*N)])\n",
    "    # initialize time counter\n",
    "    dt= 1 # initialize time counter\n",
    "    picks = np.array([0,0]) # initalize variable for first step (might be extraneous)\n",
    "    #thresh = .01\n",
    "    fit = 0 # initial fitness\n",
    "    # main loop\n",
    "    while dt<time :\n",
    "        picks = np.bincount(np.random.randint(0,2,4),minlength=2) #draw a random set of four binary variables\n",
    "        #counts -=picks\n",
    "        #tets[dt] = picks[1]\n",
    "        #tets[dt] = np.random.randint(5)\n",
    "        fit +=  fit_arr[int(picks[1])] #calculate fitness by constant model\n",
    "        #print(fit)\n",
    "        \n",
    "        fits[dt] =fit/dt # store fitness\n",
    "        tets[dt] = picks[1]\n",
    "        \n",
    "        dt+= 1 #advance time \n",
    "    return fits,tets\n",
    "    \n",
    "    \n",
    "def tet_sim_lin_inf(time,fit_loss ):\n",
    "    fits =np.zeros(time) # initialize array for fitness\n",
    "    tets = np.zeros(time)\n",
    "    fits[0]=1\n",
    "    tets[0] =1\n",
    "    #counts = np.array([int(.5*N),int(.5*N)])\n",
    "    dt= 1 # initialize time counter\n",
    "    picks = np.array([0,0]) # initalize variable for first step (might be extraneous)\n",
    "    #thresh = .01\n",
    "    fit = 0 # initial fitness\n",
    "    fit_arr =np.ones(5)\n",
    "    fit_arr =1-np.arange(5)*fit_loss/4\n",
    "    while dt<time :\n",
    "        picks = np.bincount(np.random.randint(0,2,4),minlength=2) #draw a random set of four binary variables\n",
    "        #counts -=picks\n",
    "        #tets[dt] = picks[1]\n",
    "        #tets[dt] = np.random.randint(5)\n",
    "        fit += fit_arr[int(picks[1])] #calculate fitness by linear model\n",
    "        \n",
    "        fits[dt] =fit/dt # store fitness\n",
    "        tets[dt] = picks[1]\n",
    "        \n",
    "        \n",
    "        dt+= 1  #advance time \n",
    "    return fits, tets\n",
    "\n",
    "def tet_sim_geo_inf(time,fit_loss ):\n",
    "    fits =np.zeros(time) # initialize array for fitness\n",
    "    tets = np.zeros(time)\n",
    "    fits[0]=1\n",
    "    tets[0] =0\n",
    "    #counts = np.array([int(.5*N),int(.5*N)])\n",
    "    dt= 1 # initialize time counter\n",
    "    picks = np.array([0,0]) # initalize variable for first step (might be extraneous)\n",
    "    #thresh = .01\n",
    "    fit = 0\n",
    "    fit_arr =np.ones(5)\n",
    "    fit_arr =(1- (fit_loss/2**4)*2**np.arange(5))\n",
    "    while dt<time :\n",
    "        picks = np.bincount(np.random.randint(0,2,4),minlength=2)\n",
    "        #counts -=picks\n",
    "        #tets[dt] = picks[1]\n",
    "        #tets[dt] = np.random.randint(5,)\n",
    "        fit += fit_arr[int(picks[1])] #calculate fitness by geometric model\n",
    "        \n",
    "        fits[dt] =fit/dt\n",
    "        tets[dt] = picks[1]\n",
    "        \n",
    "        \n",
    "        dt+= 1\n",
    "    return fits, tets\n",
    "\n",
    "\n",
    "\n",
    "# def tet_sim_const_inf_a(N,time,fit_loss ):\n",
    "#     #fit_loss =1 - (avg_fit_loss*5-1) /5\n",
    "#     fits =np.zeros(time)\n",
    "#     fit_hist=np.zeros(time)\n",
    "#     fits[0]=1\n",
    "#     fit_hist[0] =1\n",
    "#     counts = np.array([int(.5*N),int(.5*N)])\n",
    "#     dt= 1\n",
    "#     picks = np.array([0,0])\n",
    "#     thresh = .01\n",
    "#     fit = 0\n",
    "#     while dt<time :\n",
    "#         picks = np.bincount(np.random.randint(0,2,4),minlength=2)\n",
    "#         #counts -=picks\n",
    "#         #tets[dt] = picks[1]\n",
    "#         fit += (1- (picks[1]!=0)*fit_loss)\n",
    "#         #print(fit)\n",
    "#         fit_hist[dt]= (1- (picks[1]!=0))*(fit_loss)\n",
    "#         fits[dt] =fit/dt\n",
    "        \n",
    "        \n",
    "#         dt+= 1\n",
    "#     return fits, fit_hist\n",
    "    \n",
    "    \n",
    "# def tet_sim_lin_inf_a(N,time,avg_fit_loss ):\n",
    "#     fits =np.zeros(time)\n",
    "#     fit_hist=np.zeros(time)\n",
    "#     tets = np.zeros(time)\n",
    "#     fits[0]=1\n",
    "#     tets[0] =0\n",
    "#     counts = np.array([int(.5*N),int(.5*N)])\n",
    "#     dt= 1\n",
    "#     picks = np.array([0,0])\n",
    "#     thresh = .01\n",
    "#     fit = 0\n",
    "#     while dt<time :\n",
    "#         picks = np.bincount(np.random.randint(0,2,4),minlength=2)\n",
    "#         #counts -=picks\n",
    "#         #tets[dt] = picks[1]\n",
    "#         fit += (1- picks[1]*fit_loss/4)\n",
    "#         fit_hist[dt]= (1- picks[1]*fit_loss/4)\n",
    "#         fits[dt] =fit/dt\n",
    "        \n",
    "        \n",
    "#         dt+= 1\n",
    "#     return fits\n",
    "\n",
    "# def tet_sim_geo_inf_a(N,time,avg_fit_loss ):\n",
    "#     fits =np.zeros(time)\n",
    "#     tets = np.zeros(time)\n",
    "#     fits[0]=1\n",
    "#     tets[0] =0\n",
    "#     counts = np.array([int(.5*N),int(.5*N)])\n",
    "#     dt= 1\n",
    "#     picks = np.array([0,0])\n",
    "#     thresh = .01\n",
    "#     fit = 0\n",
    "#     while dt<time :\n",
    "#         picks = np.bincount(np.random.randint(0,2,4),minlength=2)\n",
    "#         #counts -=picks\n",
    "#         #tets[dt] = picks[1]\n",
    "#         fit += (1- (fit_loss/2**4)*2**picks[1])\n",
    "        \n",
    "#         fits[dt] =fit/dt\n",
    "        \n",
    "        \n",
    "#         dt+= 1\n",
    "#     return fits\n",
    "    \n",
    "    \n",
    "    \n",
    "    "
   ]
  },
  {
   "cell_type": "code",
   "execution_count": 1134,
   "metadata": {},
   "outputs": [],
   "source": [
    "time= 100\n",
    "samp =5000\n",
    "\n",
    "arr_const_min=np.zeros((samp,2,time))\n",
    "arr_lin_min=np.zeros((samp,2,time))\n",
    "arr_geo_min=np.zeros((samp,2,time))\n",
    "\n",
    "for n in range(samp):\n",
    "    arr_const_min[n] = tet_sim_const_inf(time,.5 )\n",
    "    arr_lin_min[n] = tet_sim_lin_inf(time,.5 )\n",
    "    arr_geo_min[n] = tet_sim_geo_inf(time,.5 )\n",
    "    \n",
    "    \n",
    "    "
   ]
  },
  {
   "cell_type": "code",
   "execution_count": 1135,
   "metadata": {},
   "outputs": [
    {
     "data": {
      "text/plain": [
       "<matplotlib.lines.Line2D at 0x1ab30a7780>"
      ]
     },
     "execution_count": 1135,
     "metadata": {},
     "output_type": "execute_result"
    },
    {
     "data": {
      "image/png": "[encoded data removed]",
      "text/plain": [
       "<Figure size 648x432 with 3 Axes>"
      ]
     },
     "metadata": {
      "needs_background": "light"
     },
     "output_type": "display_data"
    }
   ],
   "source": [
    "fig,axs=plt.subplots(1,2,figsize=(9,6)) # 1 row, 2 columns\n",
    "labels=['constant','linear','geometric'] # model labels\n",
    "\n",
    "\n",
    "# left plot\n",
    "ax=axs[0] \n",
    "for i,arr in enumerate([arr_const_min[:,0,:],arr_lin_min[:,0,:],arr_geo_min[:,0,:]]):\n",
    "    ax.plot(np.mean(arr,axis=0)[1:],lw=6,label=labels[i]) # mean\n",
    "    ax.fill_between(range(99),np.mean(arr,axis=0)[1:]-np.std(arr,axis=0)[1:],\n",
    "                     np.std(arr,axis=0)[1:]+np.mean(arr,axis=0)[1:],alpha=.2) # std, as envelope\n",
    "    \n",
    "ax.set_xlabel('Time (tet. formations)',fontsize=16)\n",
    "ax.set_ylabel('Fitness',fontsize=16)\n",
    "ax.legend(fontsize=12,bbox_to_anchor=[1.1, .3],facecolor='w',frameon=False)\n",
    "ax = axs[1]\n",
    "ax2= ax.twinx()\n",
    "for ax in [axs[0],axs[1]]:\n",
    "    for side in ax.spines.keys():  # 'top', 'bottom', 'left', 'right'\n",
    "        ax.spines[side].set_linewidth(2)\n",
    "    ax.spines['right'].set_visible(False)\n",
    "    ax.spines['top'].set_visible(False)\n",
    "    ax.tick_params(axis='both', which='major', labelsize=14)\n",
    "\n",
    "\n",
    "ax2.spines['top'].set_visible(False)\n",
    "ax2.spines['right'].set_linewidth(2)\n",
    "ax2.tick_params(axis='both', which='major', labelsize=14)\n",
    "ax2.set_ylim([0,1])\n",
    "axs[0].set_ylim([0,1])\n",
    "axs[1].set_ylim([0,1])\n",
    "\n",
    "ax.plot(np.arange(5),[1,.5,.5,.5,.5],lw =1,label='constant',marker='x',markersize=10)\n",
    "ax.plot(np.arange(5),1-np.arange(5)*.125,lw =1,label='linear',marker='x',markersize=10)\n",
    "ax.plot(np.arange(5),1-2**np.arange(5)/32,lw =1,label='geometric',marker='x',markersize=10)\n",
    "\n",
    "\n",
    "axs[1].set_yticks([0,.5,1])\n",
    "offs = [-.33,0,+.33]\n",
    "colors=['C0','C1','C2']\n",
    "for i,arr in enumerate([arr_const_min,arr_lin_min,arr_geo_min]):\n",
    "    #axs[1].axhline(np.mean(arr[:,0,:]),-.3,1,linestyle='--',alpha=.5,c=colors[i],clip_on =False)\n",
    "    ax2.bar(np.arange(5)+offs[i],np.bincount(arr[:,1,:].flatten().astype(int))/len(arr[:,1,:].flatten().astype(int)),\n",
    "           .33)\n",
    "\n",
    "for side in ax2.spines.keys():  # 'top', 'bottom', 'left', 'right'\n",
    "    ax2.spines[side].set_linewidth(2)\n",
    "\n",
    "\n",
    "ax.set_xlabel('Number of mutant subunits',fontsize=16)\n",
    "ax2.set_ylabel('Proportion of formed tetramers',fontsize=16)\n",
    "ax2.set_xticks(np.arange(5))\n",
    "axs[1].axhline(y=.5,linestyle='--',alpha=.5,color='k')\n",
    "\n",
    "\n",
    "#ax.legend(fontsize=14,bbox_to_anchor=[1, .5])\n",
    "#ax.set_xlabel('Time (tet. formations)',fontsize=16)\n",
    "#ax.set_ylabel('Fitness',fontsize=16)\n",
    "#ax.legend(fontsize=14,bbox_to_anchor=[1, .5])"
   ]
  },
  {
   "cell_type": "code",
   "execution_count": 835,
   "metadata": {},
   "outputs": [
    {
     "data": {
      "text/plain": [
       "<matplotlib.legend.Legend at 0x1ab0572828>"
      ]
     },
     "execution_count": 835,
     "metadata": {},
     "output_type": "execute_result"
    },
    {
     "data": {
      "image/png": "[encoded data removed]",
      "text/plain": [
       "<Figure size 432x288 with 1 Axes>"
      ]
     },
     "metadata": {
      "needs_background": "light"
     },
     "output_type": "display_data"
    }
   ],
   "source": [
    "\n",
    "fig,ax=plt.subplots()\n",
    "labels=['constant','linear','geometric']\n",
    "for i,arr in enumerate([arr_const_min[:,0,:],arr_lin_min[:,0,:],arr_geo_min[:,0,:]]):\n",
    "    ax.plot(np.mean(arr,axis=0)[1:],lw=6,label=labels[i])\n",
    "    ax.fill_between(range(99),np.mean(arr,axis=0)[1:]-np.std(arr,axis=0)[1:],\n",
    "                     np.std(arr,axis=0)[1:]+np.mean(arr,axis=0)[1:],alpha=.2)\n",
    "for side in ax.spines.keys():  # 'top', 'bottom', 'left', 'right'\n",
    "    ax.spines[side].set_linewidth(2)\n",
    "ax.spines['right'].set_visible(False)\n",
    "ax.spines['top'].set_visible(False)\n",
    "ax.tick_params(axis='both', which='major', labelsize=14)\n",
    "\n",
    "ax.set_xlabel('Time (tet. formations)',fontsize=16)\n",
    "ax.set_ylabel('Fitness',fontsize=16)\n",
    "ax.legend(fontsize=14,bbox_to_anchor=[1, .5])"
   ]
  },
  {
   "cell_type": "code",
   "execution_count": 1046,
   "metadata": {},
   "outputs": [
    {
     "data": {
      "text/plain": [
       "array([0.62170422, 0.01646668, 0.96371407, ..., 0.01277845, 0.56917094,\n",
       "       0.4403193 ])"
      ]
     },
     "execution_count": 1046,
     "metadata": {},
     "output_type": "execute_result"
    }
   ],
   "source": [
    "np.random.random(time)M"
   ]
  },
  {
   "cell_type": "code",
   "execution_count": 622,
   "metadata": {},
   "outputs": [
    {
     "data": {
      "text/plain": [
       "True"
      ]
     },
     "execution_count": 622,
     "metadata": {},
     "output_type": "execute_result"
    }
   ],
   "source": [
    "np.all(Ne_arr==Ne_arr[0])"
   ]
  },
  {
   "cell_type": "code",
   "execution_count": 620,
   "metadata": {},
   "outputs": [
    {
     "data": {
      "text/plain": [
       "False"
      ]
     },
     "execution_count": 620,
     "metadata": {},
     "output_type": "execute_result"
    }
   ],
   "source": [
    "np.all(Ne_arr) ==Ne_arr[0]"
   ]
  },
  {
   "cell_type": "code",
   "execution_count": 708,
   "metadata": {},
   "outputs": [],
   "source": [
    "def mut_pop_sim(N, Ne_arr, inits,fits_,time,rand_in):\n",
    "    fits =np.copy(fits_)\n",
    "    pop_hist = np.zeros((time,len(fits)+5)) #store population history\n",
    "\n",
    "    P_mat = np.zeros((len(fits)+5,len(fits)+5)) # duplication matrix probability\n",
    "    P_mat[:5,:5] =1\n",
    "    P_mat[np.arange(5),np.arange(-5,0)[::-1]] =1\n",
    "    P_mat[np.arange(-5,0),np.arange(-5,0)] =1\n",
    "    P_mat[np.arange(-5,0)[::-1],np.arange(5)]=1-fits # death prob is 1-r\n",
    "    pop = np.copy(inits) # feed in input for population\n",
    "    #print(pop)\n",
    "\n",
    "    #Ne = int(np.sum(Ne_arr*pop[1:]/np.sum(pop[1:])) - np.sum(pop[1:])) # calculate vacancies (\"average CC/\")\n",
    "    #pop[:5] = (Ne_arr - pop[5:])[::-1]\n",
    "    #if np.all(Ne_arr==Ne_arr[0]):\n",
    "    pop[:5] =  (pop[5:]>0)[::-1]*(Ne_arr -np.sum( pop[5:]))[::-1]\n",
    "    #else:\n",
    "    #    pop[:5] =  (pop[5:]>0)[::-1]*(Ne_arr -pop[5:])[::-1]\n",
    "    #print(pop)\n",
    "    #pop[0]=Ne # feed into population array\n",
    "    pop_hist[0]=pop \n",
    "    # main loop\n",
    "\n",
    "    #rands = np.random.random(time)\n",
    "    rands = np.random.random(time)\n",
    "    for dt in range(1,time):\n",
    "        #cells = np.repeat(np.arange(-1,5),pop)\n",
    "\n",
    "        picks = np.random.choice(np.repeat(np.arange(-5,5),pop),2)# pick two cells\n",
    "\n",
    "\n",
    "        #picks = np.random.choice(np.arange(-1,5),2,p=pop/np.sum(pop))\n",
    "        #print(picks)\n",
    "        if  rands[dt]<P_mat[tuple(picks)] and pop[picks[1]+5]>0 and pop[picks[0]+5]>0 : # draw random number and continue if under prob. and cells are available\n",
    "            #print('hi')\n",
    "            pop[picks[1]+5]-=1 # kill chosen cell\n",
    "            if picks[0]<=0:\n",
    "                pop[picks[0]+5]+=1 # for wildtype, simple reproduce\n",
    "            if picks[0]>0:\n",
    "                pop[picks[0]+5]-=1 # for mutant, remove current cell type\n",
    "                pop[np.random.randint(6,10)]+=2  # add two of new cell type for both daughter cells\n",
    "        #if np.all(Ne_arr==Ne_arr[0]):\n",
    "        pop[:5] =  (pop[5:]>0)[::-1]*(Ne_arr -np.sum( pop[5:]))[::-1]\n",
    "        #else:\n",
    "        #    pop[:5] =  (pop[5:]>0)[::-1]*(Ne_arr -pop[5:])[::-1]\n",
    "        #tot = np.sum(pop[1:]) # total population\n",
    "        #Ne = max(0,int(np.sum(Ne_arr*pop[1:]/tot) - tot)) # new effective (or average carrying capacity)\n",
    "        #pop[0] = Ne\n",
    "\n",
    "        pop_hist[dt] = pop # store \n",
    "    return pop_hist\n",
    "            \n",
    "        \n",
    "        \n",
    "        \n",
    "    "
   ]
  },
  {
   "cell_type": "code",
   "execution_count": 712,
   "metadata": {},
   "outputs": [
    {
     "data": {
      "text/plain": [
       "[1, 29]"
      ]
     },
     "execution_count": 712,
     "metadata": {},
     "output_type": "execute_result"
    }
   ],
   "source": [
    "skipss"
   ]
  },
  {
   "cell_type": "code",
   "execution_count": 710,
   "metadata": {},
   "outputs": [],
   "source": [
    "N=50\n",
    "e=500\n",
    "Ne_arr=np.zeros(5)\n",
    "Ne_arr[1:]= N#+np.array([500,1000,1500,2000])\n",
    "Ne_arr[0 ] =N\n",
    "fits = np.array([.95,.949,.949,.949,.949])\n",
    "time= 10000\n",
    "inits= np.array([0,0,0,0,0,N-1,1,0,0,0])\n",
    "#inits[1:] =(np.array(P_m)*N).astype(int)"
   ]
  },
  {
   "cell_type": "code",
   "execution_count": 711,
   "metadata": {},
   "outputs": [],
   "source": [
    "samp = 50\n",
    "\n",
    "arr_sameK = np.zeros((samp,time,len(fits)+5))\n",
    "rand_inds  =np.random.random((samp,time))\n",
    "skipss=[]\n",
    "for n in range(samp):\n",
    "    try:\n",
    "        arr_sameK[n] = mut_pop_sim(N, Ne_arr, inits,fits,time,rand_inds[n])\n",
    "    except:\n",
    "        skipss.append(n)"
   ]
  },
  {
   "cell_type": "code",
   "execution_count": 703,
   "metadata": {},
   "outputs": [],
   "source": [
    "N=50\n",
    "e=500\n",
    "Ne_arr=np.zeros(5)\n",
    "Ne_arr[1:]= N+np.array([100,100,100,100])\n",
    "Ne_arr[0 ] =N\n",
    "fits = np.array([.95,.949,.949,.949,.949])\n",
    "time= 10000\n",
    "inits= np.array([0,0,0,0,0,N-1,1,0,0,0])\n",
    "#inits[1:] =(np.array(P_m)*N).astype(int)"
   ]
  },
  {
   "cell_type": "code",
   "execution_count": 704,
   "metadata": {},
   "outputs": [],
   "source": [
    "samp = 50\n",
    "skipsd=[]\n",
    "arr_diffK = np.zeros((samp,time,len(fits)+5))\n",
    "rand_inds  =np.random.random((samp,time))\n",
    "for n in range(samp):\n",
    "    try:\n",
    "        arr_diffK[n] = mut_pop_sim(N, Ne_arr, inits,fits,time,rand_inds[n])\n",
    "    except:\n",
    "        skipsd.append(n)\n",
    "        "
   ]
  },
  {
   "cell_type": "code",
   "execution_count": 705,
   "metadata": {},
   "outputs": [
    {
     "data": {
      "text/plain": [
       "[<matplotlib.lines.Line2D at 0x1a3292c400>]"
      ]
     },
     "execution_count": 705,
     "metadata": {},
     "output_type": "execute_result"
    },
    {
     "data": {
      "image/png": "[encoded data removed]",
      "text/plain": [
       "<Figure size 432x288 with 1 Axes>"
      ]
     },
     "metadata": {
      "needs_background": "light"
     },
     "output_type": "display_data"
    }
   ],
   "source": [
    "\n",
    "#plt.plot(np.mean(arr_sameK[:,:,5],axis=0)/np.mean(np.sum(arr_sameK[:,:,6:],axis=2),axis=0))\n",
    "plt.plot(np.mean(arr_diffK[:,:,5],axis=0)/np.mean(np.sum(arr_diffK[:,:,6:],axis=2),axis=0))\n",
    "#plt.plot(np.mean(np.sum(arr_diffK[:,:,6:],axis=2),axis=0))\n"
   ]
  },
  {
   "cell_type": "code",
   "execution_count": 706,
   "metadata": {},
   "outputs": [
    {
     "data": {
      "text/plain": [
       "[1,\n",
       " 2,\n",
       " 3,\n",
       " 4,\n",
       " 5,\n",
       " 7,\n",
       " 9,\n",
       " 10,\n",
       " 11,\n",
       " 13,\n",
       " 15,\n",
       " 16,\n",
       " 17,\n",
       " 18,\n",
       " 20,\n",
       " 22,\n",
       " 23,\n",
       " 24,\n",
       " 25,\n",
       " 27,\n",
       " 28,\n",
       " 29,\n",
       " 30,\n",
       " 31,\n",
       " 32,\n",
       " 33,\n",
       " 34,\n",
       " 35,\n",
       " 36,\n",
       " 37,\n",
       " 38,\n",
       " 39,\n",
       " 42,\n",
       " 45,\n",
       " 46,\n",
       " 47,\n",
       " 48]"
      ]
     },
     "execution_count": 706,
     "metadata": {},
     "output_type": "execute_result"
    }
   ],
   "source": [
    "skipsd"
   ]
  },
  {
   "cell_type": "code",
   "execution_count": 680,
   "metadata": {},
   "outputs": [
    {
     "data": {
      "text/plain": [
       "array([ 0.,  0.,  0.,  0.,  0.,  0.,  0.,  0.,  0.,  0.,  0.,  0.,  0.,\n",
       "        0.,  0.,  0.,  0.,  0.,  0.,  0.,  0.,  0.,  0.,  0.,  0., 50.,\n",
       "        0.,  0.,  0., 50.,  0.,  0.,  0.,  0.,  0.,  0.,  0.,  0.,  0.,\n",
       "        0.,  0.,  0.,  0.,  0.,  0.,  0.,  0.,  0.,  0.,  0.])"
      ]
     },
     "execution_count": 680,
     "metadata": {},
     "output_type": "execute_result"
    }
   ],
   "source": [
    "np.sum(arr_sameK[:,-1,6:],axis=1)\n"
   ]
  },
  {
   "cell_type": "code",
   "execution_count": 67,
   "metadata": {},
   "outputs": [],
   "source": [
    "P_mat[-1][1:]=0\n",
    "P_mat[-2][2:]=0\n",
    "P_mat[-2][:1]=0\n",
    "P_mat[-3][3:]=0\n",
    "P_mat[-3][:2]=0\n",
    "P_mat[-4][4:]=0\n",
    "P_mat[-4][:3]=0\n",
    "P_mat[-5][5:]=0\n",
    "P_mat[-5][:4]=0\n"
   ]
  },
  {
   "cell_type": "code",
   "execution_count": 1750,
   "metadata": {},
   "outputs": [
    {
     "data": {
      "text/plain": [
       "False"
      ]
     },
     "execution_count": 1750,
     "metadata": {},
     "output_type": "execute_result"
    }
   ],
   "source": [
    "np.all(picks>0)"
   ]
  },
  {
   "cell_type": "code",
   "execution_count": 1598,
   "metadata": {},
   "outputs": [],
   "source": [
    "    pop = np.copy(inits) # feed in input for population\n",
    "\n",
    "    #Ne = int(np.sum(Ne_arr*pop[1:]/np.sum(pop[1:])) - np.sum(pop[1:])) # calculate vacancies (\"average CC/\")\n",
    "    pop[:5] = Ne_arr - pop[5:]"
   ]
  },
  {
   "cell_type": "code",
   "execution_count": 579,
   "metadata": {},
   "outputs": [],
   "source": [
    "N=50\n",
    "e=500\n",
    "Ne_arr=np.zeros(5)\n",
    "Ne_arr[1:]= N #+np.array([50,50,50,50])\n",
    "Ne_arr[0 ] =N\n",
    "fits_ = np.array([.95,.949,.949,.949,.949])\n",
    "time= 5000\n",
    "inits= np.array([0,0,0,0,0,int(N/2),int(N/2),0,0,0])"
   ]
  },
  {
   "cell_type": "code",
   "execution_count": 581,
   "metadata": {},
   "outputs": [],
   "source": [
    "fits =np.copy(fits_)\n",
    "pop_hist = np.zeros((time,len(fits)+5)) #store population history\n",
    "\n",
    "P_mat = np.zeros((len(fits)+5,len(fits)+5)) # duplication matrix probability\n",
    "P_mat[np.arange(5),np.arange(5)] =1\n",
    "P_mat[np.arange(5),np.arange(-5,0)[::-1]] =1\n",
    "P_mat[np.arange(-5,0),np.arange(-5,0)] =1\n",
    "P_mat[np.arange(-5,0)[::-1],np.arange(5)]=1-fits # death prob is 1-r\n",
    "pop = np.copy(inits) # feed in input for population\n",
    "#print(pop)\n",
    "\n",
    "#Ne = int(np.sum(Ne_arr*pop[1:]/np.sum(pop[1:])) - np.sum(pop[1:])) # calculate vacancies (\"average CC/\")\n",
    "#pop[:5] = (Ne_arr - pop[5:])[::-1]\n",
    "if np.all(Ne_arr) !=Ne_arr[0]:\n",
    "    pop[:5] =  (pop[5:]>0)[::-1]*(Ne_arr -np.sum( pop[5:]))[::-1]\n",
    "else:\n",
    "    pop[:5] =  (pop[5:]>0)[::-1]*(Ne_arr -pop[5:])[::-1]\n",
    "#print(pop)\n",
    "#pop[0]=Ne # feed into population array\n",
    "pop_hist[0]=pop \n",
    "# main loop\n",
    "\n",
    "#rands = np.random.random(time)\n",
    "rands = np.random.random(time)\n",
    "for dt in range(1,time):\n",
    "    #cells = np.repeat(np.arange(-1,5),pop)\n",
    "    \n",
    "    picks = np.random.choice(np.repeat(np.arange(-5,5),pop),2)# pick two cells\n",
    "\n",
    "\n",
    "    #picks = np.random.choice(np.arange(-1,5),2,p=pop/np.sum(pop))\n",
    "    #print(picks)\n",
    "    if  rands[dt]<P_mat[tuple(picks)] and pop[picks[1]+5]>0 and pop[picks[0]+5]>0 : # draw random number and continue if under prob. and cells are available\n",
    "        #print('hi')\n",
    "        pop[picks[1]+5]-=1 # kill chosen cell\n",
    "        if picks[0]<=0:\n",
    "            pop[picks[0]+5]+=1 # for wildtype, simple reproduce\n",
    "        if picks[0]>0:\n",
    "            pop[picks[0]+5]-=1 # for mutant, remove current cell type\n",
    "            pop[np.random.randint(6,10)]+=2  # add two of new cell type for both daughter cells\n",
    "    if np.all(Ne_arr) !=Ne_arr[0]:\n",
    "        pop[:5] =  (pop[5:]>0)[::-1]*(Ne_arr -np.sum( pop[5:]))[::-1]\n",
    "    else:\n",
    "        pop[:5] =  (pop[5:]>0)[::-1]*(Ne_arr -pop[5:])[::-1]\n",
    "    #tot = np.sum(pop[1:]) # total population\n",
    "    #Ne = max(0,int(np.sum(Ne_arr*pop[1:]/tot) - tot)) # new effective (or average carrying capacity)\n",
    "    #pop[0] = Ne\n",
    "\n",
    "    pop_hist[dt] = pop # store "
   ]
  },
  {
   "cell_type": "code",
   "execution_count": 577,
   "metadata": {},
   "outputs": [
    {
     "data": {
      "text/plain": [
       "False"
      ]
     },
     "execution_count": 577,
     "metadata": {},
     "output_type": "execute_result"
    }
   ],
   "source": [
    "np.all(Ne_arr) ==Ne_arr[0]:"
   ]
  },
  {
   "cell_type": "code",
   "execution_count": 556,
   "metadata": {},
   "outputs": [
    {
     "data": {
      "text/plain": [
       "array([ 0.,  0.,  0.,  0.,  0., 25.,  7.,  6.,  6.,  6.])"
      ]
     },
     "execution_count": 556,
     "metadata": {},
     "output_type": "execute_result"
    }
   ],
   "source": [
    "pop_hist[4835]"
   ]
  },
  {
   "cell_type": "code",
   "execution_count": 551,
   "metadata": {},
   "outputs": [
    {
     "data": {
      "text/plain": [
       "array([14.,  0., 10., 12.,  0., 50., 38., 40., 50., 36.])"
      ]
     },
     "execution_count": 551,
     "metadata": {},
     "output_type": "execute_result"
    }
   ],
   "source": [
    "pop_hist[4834]"
   ]
  },
  {
   "cell_type": "code",
   "execution_count": 502,
   "metadata": {},
   "outputs": [
    {
     "data": {
      "text/plain": [
       "array([ 0., 49.,  0., 50.,  0., 26., 24.,  0.,  0.,  0.])"
      ]
     },
     "execution_count": 502,
     "metadata": {},
     "output_type": "execute_result"
    }
   ],
   "source": [
    "pop_hist[14]"
   ]
  },
  {
   "cell_type": "code",
   "execution_count": 495,
   "metadata": {},
   "outputs": [
    {
     "data": {
      "text/plain": [
       "array([49.])"
      ]
     },
     "execution_count": 495,
     "metadata": {},
     "output_type": "execute_result"
    }
   ],
   "source": [
    "(Ne_arr - np.sum(pop_hist[15][5:]))[::-1][ (pop_hist[14][:5]>0)[::-1]]"
   ]
  },
  {
   "cell_type": "code",
   "execution_count": 496,
   "metadata": {},
   "outputs": [
    {
     "data": {
      "text/plain": [
       "array([0.])"
      ]
     },
     "execution_count": 496,
     "metadata": {},
     "output_type": "execute_result"
    }
   ],
   "source": [
    "np.zeros(5)[ (pop_hist[14][:5]>0)[::-1]] = "
   ]
  },
  {
   "cell_type": "code",
   "execution_count": 499,
   "metadata": {},
   "outputs": [
    {
     "data": {
      "text/plain": [
       "[array([False,  True, False, False, False])]"
      ]
     },
     "execution_count": 499,
     "metadata": {},
     "output_type": "execute_result"
    }
   ],
   "source": [
    "[ (pop_hist[14][:5]>0)[::-1]] "
   ]
  },
  {
   "cell_type": "code",
   "execution_count": 1691,
   "metadata": {},
   "outputs": [
    {
     "data": {
      "text/plain": [
       "array([ 0., 49., 50., 50., 50.])"
      ]
     },
     "execution_count": 1691,
     "metadata": {},
     "output_type": "execute_result"
    }
   ],
   "source": [
    "Ne_arr - pop[5:]"
   ]
  },
  {
   "cell_type": "code",
   "execution_count": 1705,
   "metadata": {},
   "outputs": [
    {
     "data": {
      "text/plain": [
       "array([-1, -2, -3, -4, -5])"
      ]
     },
     "execution_count": 1705,
     "metadata": {},
     "output_type": "execute_result"
    }
   ],
   "source": [
    "P_mat[np.arange(5),np.arange(-5,0)[::-1]] =1"
   ]
  },
  {
   "cell_type": "code",
   "execution_count": 1731,
   "metadata": {},
   "outputs": [],
   "source": [
    " pop[:5] = (Ne_arr - pop[5:])[::-1]"
   ]
  },
  {
   "cell_type": "code",
   "execution_count": 1730,
   "metadata": {},
   "outputs": [
    {
     "data": {
      "text/plain": [
       "array([  50., 1050., 1050., 1050., 1050.])"
      ]
     },
     "execution_count": 1730,
     "metadata": {},
     "output_type": "execute_result"
    }
   ],
   "source": [
    "Ne_arr"
   ]
  },
  {
   "cell_type": "code",
   "execution_count": 1732,
   "metadata": {},
   "outputs": [
    {
     "data": {
      "text/plain": [
       "array([1050, 1050, 1050, 1049,    1,   49,    1,    0,    0,    0])"
      ]
     },
     "execution_count": 1732,
     "metadata": {},
     "output_type": "execute_result"
    }
   ],
   "source": [
    "pop"
   ]
  },
  {
   "cell_type": "code",
   "execution_count": 138,
   "metadata": {},
   "outputs": [],
   "source": [
    "pop[:5] =  (pop[5:]>0)[::-1]*(Ne_arr - np.sum(pop[5:]))[::-1]"
   ]
  },
  {
   "cell_type": "code",
   "execution_count": 139,
   "metadata": {},
   "outputs": [
    {
     "data": {
      "text/plain": [
       "array([   0,    0,    0, 1000,    0,   25,   25,    0,    0,    0])"
      ]
     },
     "execution_count": 139,
     "metadata": {},
     "output_type": "execute_result"
    }
   ],
   "source": [
    "pop\n"
   ]
  },
  {
   "cell_type": "code",
   "execution_count": 129,
   "metadata": {},
   "outputs": [],
   "source": [
    "    pop = np.copy(inits) # feed in input for population\n",
    "\n",
    "    #Ne = int(np.sum(Ne_arr*pop[1:]/np.sum(pop[1:])) - np.sum(pop[1:])) # calculate vacancies (\"average CC/\")\n",
    "    #pop[:5] = (Ne_arr - pop[5:])[::-1]\n",
    "    pop[:5] =  (pop[5:]>0)[::-1]*(Ne_arr - pop[5:])[::-1]\n",
    "    #pop[0]=Ne # feed into population array"
   ]
  },
  {
   "cell_type": "code",
   "execution_count": null,
   "metadata": {},
   "outputs": [],
   "source": []
  }
 ],
 "metadata": {
  "kernelspec": {
   "display_name": "Python 3",
   "language": "python",
   "name": "python3"
  },
  "language_info": {
   "codemirror_mode": {
    "name": "ipython",
    "version": 3
   },
   "file_extension": ".py",
   "mimetype": "text/x-python",
   "name": "python",
   "nbconvert_exporter": "python",
   "pygments_lexer": "ipython3",
   "version": "3.7.2"
  }
 },
 "nbformat": 4,
 "nbformat_minor": 2
}
